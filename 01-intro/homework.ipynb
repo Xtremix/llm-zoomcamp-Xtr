{
 "cells": [
  {
   "cell_type": "code",
   "execution_count": 1,
   "id": "ac5bb27e-9c2e-4c0b-9097-dcaff58ebefd",
   "metadata": {},
   "outputs": [],
   "source": [
    "import openai"
   ]
  },
  {
   "cell_type": "code",
   "execution_count": 2,
   "id": "a08c919f-733c-4cd2-b2bd-924d8b598c1d",
   "metadata": {},
   "outputs": [],
   "source": [
    "from openai import OpenAI"
   ]
  },
  {
   "cell_type": "code",
   "execution_count": 3,
   "id": "8143e89e-888c-421b-88f5-2ffccf1f5aa8",
   "metadata": {},
   "outputs": [],
   "source": [
    "client=OpenAI()"
   ]
  },
  {
   "cell_type": "code",
   "execution_count": 4,
   "id": "fe4bebcb-baff-4119-b570-bd0c4afbcafb",
   "metadata": {},
   "outputs": [],
   "source": [
    "import os "
   ]
  },
  {
   "cell_type": "code",
   "execution_count": 7,
   "id": "080a6a8c-e81d-4024-a30f-d19224d2072e",
   "metadata": {},
   "outputs": [],
   "source": [
    "response=client.chat.completions.create(\n",
    "    model='gpt-4o',\n",
    "    messages=[{\"role\":\"user\",\"content\":\"is it too late to join the course?\"}]\n",
    ")"
   ]
  },
  {
   "cell_type": "code",
   "execution_count": 8,
   "id": "c65cf28f-26e8-4653-8b8f-71230f965de4",
   "metadata": {},
   "outputs": [
    {
     "data": {
      "text/plain": [
       "\"The answer to whether it's too late to join a course depends on various factors:\\n\\n1. **Course Enrollment Deadlines**: Check if the course has a strict enrollment deadline. Some courses may allow late registration within a certain period after the course has started.\\n\\n2. **Instructor/Institution Policy**: Sometimes, instructors or institutions may have flexibility regarding late enrollment. Contact the course instructor or the administrative office to inquire if exceptions can be made.\\n\\n3. **Course Format**: Online courses with self-paced modules might allow you to join anytime, whereas traditional classroom settings may have more rigid schedules.\\n\\n4. **Course Progress**: Consider how much content has already been covered. If significant material has been taught, catching up might be challenging without additional effort.\\n\\n5. **Resources Availability**: Ensure that you can access all required readings, lecture notes, or recorded sessions if you join late.\\n\\nIf you provide more specific details about the course or the context, I could offer more tailored advice.\""
      ]
     },
     "execution_count": 8,
     "metadata": {},
     "output_type": "execute_result"
    }
   ],
   "source": [
    "response.choices[0].message.content"
   ]
  },
  {
   "cell_type": "code",
   "execution_count": null,
   "id": "8d8fdba2-ab17-4b0d-8c25-b20d12a8204d",
   "metadata": {},
   "outputs": [],
   "source": []
  }
 ],
 "metadata": {
  "kernelspec": {
   "display_name": "Python 3 (ipykernel)",
   "language": "python",
   "name": "python3"
  },
  "language_info": {
   "codemirror_mode": {
    "name": "ipython",
    "version": 3
   },
   "file_extension": ".py",
   "mimetype": "text/x-python",
   "name": "python",
   "nbconvert_exporter": "python",
   "pygments_lexer": "ipython3",
   "version": "3.10.13"
  }
 },
 "nbformat": 4,
 "nbformat_minor": 5
}
